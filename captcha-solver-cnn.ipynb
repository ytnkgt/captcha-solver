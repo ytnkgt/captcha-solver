{
 "cells": [
  {
   "cell_type": "code",
   "execution_count": 1,
   "metadata": {},
   "outputs": [
    {
     "name": "stderr",
     "output_type": "stream",
     "text": [
      "/home/ytnkadmin/.local/lib/python3.8/site-packages/tqdm/auto.py:22: TqdmWarning: IProgress not found. Please update jupyter and ipywidgets. See https://ipywidgets.readthedocs.io/en/stable/user_install.html\n",
      "  from .autonotebook import tqdm as notebook_tqdm\n"
     ]
    }
   ],
   "source": [
    "import os\n",
    "import time\n",
    "import datetime\n",
    "import string\n",
    "from PIL import Image\n",
    "import logging\n",
    "import matplotlib.pyplot as plt\n",
    "\n",
    "import torch\n",
    "from torch import nn\n",
    "import torch.optim as optim\n",
    "import torch.nn.functional as F\n",
    "from torch.utils.data import Dataset, DataLoader\n",
    "from torch.utils.data import sampler\n",
    "import torchvision.transforms as transforms\n",
    "from torch.optim.lr_scheduler import StepLR\n",
    "from torch.nn.utils.clip_grad import clip_grad_norm_\n",
    "from torch.utils.data import random_split\n",
    "\n",
    "from tqdm import *"
   ]
  },
  {
   "cell_type": "markdown",
   "metadata": {},
   "source": [
    "### Define default settings"
   ]
  },
  {
   "cell_type": "code",
   "execution_count": 2,
   "metadata": {},
   "outputs": [
    {
     "data": {
      "text/plain": [
       "(device(type='cuda'), True, 'NVIDIA GeForce RTX 3070 Laptop GPU', 1)"
      ]
     },
     "execution_count": 2,
     "metadata": {},
     "output_type": "execute_result"
    }
   ],
   "source": [
    "current_dir = os.path.abspath(os.path.curdir)\n",
    "root_dir = os.path.join(current_dir, 'data', 'img')\n",
    "symbols = string.ascii_lowercase + string.digits\n",
    "num_symbols = len(symbols)\n",
    "captcha_length = 5\n",
    "num_symbols\n",
    "device = torch.device('cuda' if torch.cuda.is_available() else 'cpu')\n",
    "device, torch.cuda.is_available(), torch.cuda.get_device_name(), torch.cuda.device_count()"
   ]
  },
  {
   "cell_type": "markdown",
   "metadata": {},
   "source": [
    "### Tokenization\n"
   ]
  },
  {
   "cell_type": "code",
   "execution_count": 3,
   "metadata": {},
   "outputs": [],
   "source": [
    "int2char = dict(enumerate(symbols))\n",
    "char2int = {v: k for k, v in int2char.items()}\n",
    "\n",
    "def tokenize(chars):\n",
    "    return torch.tensor([char2int[s] for s in list(chars)])\n",
    "\n",
    "def untokenize(token):\n",
    "    return ''.join([int2char[i] for i in token.squeeze().tolist()])"
   ]
  },
  {
   "cell_type": "markdown",
   "metadata": {},
   "source": [
    "### Loading dataset"
   ]
  },
  {
   "cell_type": "code",
   "execution_count": 4,
   "metadata": {},
   "outputs": [
    {
     "name": "stdout",
     "output_type": "stream",
     "text": [
      "train size: 200000 test size: 50000\n"
     ]
    }
   ],
   "source": [
    "class Transform(object):\n",
    "    def __call__(self, x):\n",
    "        x = transforms.functional.to_grayscale(x)\n",
    "        x = transforms.functional.to_tensor(x)\n",
    "        x = transforms.functional.invert(x)\n",
    "        x = transforms.functional.resize(x, [50, 120])\n",
    "        x = x > 0.3\n",
    "        return x.float()\n",
    "\n",
    "class CaptchaDataset(Dataset):\n",
    "    def __init__(self, root_dir, transform_list = None):\n",
    "        super(CaptchaDataset, self).__init__()\n",
    "        self.root_dir = root_dir\n",
    "        self.images = os.listdir(self.root_dir)\n",
    "        self.nSamples = len(self.images)\n",
    "        transform_list = transform_list\n",
    "        self.transform = transforms.Compose(transform_list)\n",
    "    \n",
    "    def __len__(self):\n",
    "        return self.nSamples\n",
    "    \n",
    "    def __getitem__(self, idx):\n",
    "        if torch.is_tensor(idx):\n",
    "            idx = idx.tolist()\n",
    "        \n",
    "        img_name = os.path.join(self.root_dir, self.images[idx])\n",
    "        image = Image.open(img_name)\n",
    "        labels = tokenize(os.path.splitext(self.images[idx])[0])\n",
    "        if self.transform is not None:\n",
    "            image = self.transform(image)\n",
    "        return image, labels\n",
    "\n",
    "transform_list = [Transform()]\n",
    "        \n",
    "data = CaptchaDataset(root_dir, transform_list=transform_list)\n",
    "data, _ = torch.utils.data.random_split(data, [int(0.5 * len(data)), int(0.5 * len(data))])\n",
    "train_size = int(0.8 * len(data))\n",
    "test_size = len(data) - train_size\n",
    "train_data, test_data = torch.utils.data.random_split(data, [train_size, test_size])\n",
    "print('train size: ' + str(len(train_data)), 'test size: ' + str(len(test_data)))"
   ]
  },
  {
   "cell_type": "code",
   "execution_count": 5,
   "metadata": {},
   "outputs": [
    {
     "data": {
      "image/png": "[encoded data removed]",
      "text/plain": [
       "<Figure size 432x288 with 1 Axes>"
      ]
     },
     "metadata": {
      "needs_background": "light"
     },
     "output_type": "display_data"
    }
   ],
   "source": [
    "import random\n",
    "def show_sample_image(dataset):\n",
    "    idx = random.randint(0, len(dataset))\n",
    "    img = torch.squeeze(dataset[idx][0]).numpy()\n",
    "    label = untokenize(dataset[idx][1])\n",
    "    plt.imshow(img, cmap='gray')\n",
    "    plt.title(label)\n",
    "    plt.show\n",
    "\n",
    "show_sample_image(train_data)"
   ]
  },
  {
   "cell_type": "code",
   "execution_count": 6,
   "metadata": {},
   "outputs": [],
   "source": [
    "batch_size=256\n",
    "\n",
    "train_dataloader = DataLoader(train_data, batch_size=batch_size, shuffle=True, num_workers=4, pin_memory=True)\n",
    "test_dataloader = DataLoader(test_data, batch_size=batch_size, shuffle=False, num_workers=4, pin_memory=True)"
   ]
  },
  {
   "cell_type": "code",
   "execution_count": 7,
   "metadata": {},
   "outputs": [],
   "source": [
    "class Net(nn.Module):\n",
    "\n",
    "    def __init__(self):\n",
    "        super(Net, self).__init__()\n",
    "        self.relu = nn.ReLU()\n",
    "        self.pool = nn.MaxPool2d(2, 2)\n",
    "        self.conv1 = nn.Conv2d(in_channels=1, out_channels=16, kernel_size=5, stride=1, padding=2) # param size: 1 * 16 * 5 * 5\n",
    "        self.conv2 = nn.Conv2d(in_channels=16, out_channels=32, kernel_size=5, stride=1, padding=2) # param size: 32 * 16 * 5 * 5\n",
    "        self.conv3 = nn.Conv2d(in_channels=32, out_channels=64, kernel_size=5, stride=1, padding=2) # param size: 32 * 16 * 5 * 5\n",
    "        self.fc1_1 = nn.Linear(64 * 6 * 15, 1024)  \n",
    "        self.fc1_2 = nn.Linear(64 * 6 * 15, 1024)  \n",
    "        self.fc1_3 = nn.Linear(64 * 6 * 15, 1024)  \n",
    "        self.fc1_4 = nn.Linear(64 * 6 * 15, 1024)  \n",
    "        self.fc1_5 = nn.Linear(64 * 6 * 15, 1024) \n",
    "        self.fc2_1 = nn.Linear(1024, num_symbols)  \n",
    "        self.fc2_2 = nn.Linear(1024, num_symbols)  \n",
    "        self.fc2_3 = nn.Linear(1024, num_symbols)  \n",
    "        self.fc2_4 = nn.Linear(1024, num_symbols)  \n",
    "        self.fc2_5 = nn.Linear(1024, num_symbols)\n",
    "        self.dropout = nn.Dropout(0.5)\n",
    "\n",
    "    def forward(self, x):\n",
    "        x = self.conv1(x) \n",
    "        x = self.relu(x)\n",
    "        x = self.pool(x) # output image size: 25 x 60\n",
    "        x = self.conv2(x)\n",
    "        x = self.relu(x)\n",
    "        x = self.pool(x) # output image size: 12 x 30\n",
    "        x = self.conv3(x)\n",
    "        x = self.relu(x)\n",
    "        x = self.pool(x) # output image size: 6 x 15\n",
    "        x = x.view(x.size()[0], -1) # flatten all dimensions except the batch dimension\n",
    "        x1 = self.fc1_1(x)\n",
    "        x1 = self.relu(x1)\n",
    "        x1 = self.dropout(x1)\n",
    "        x1 = self.fc2_1(x1)\n",
    "\n",
    "        x2 = self.fc1_2(x)\n",
    "        x2 = self.relu(x2)\n",
    "        x2 = self.dropout(x2)\n",
    "        x2 = self.fc2_2(x2)\n",
    "\n",
    "        x3 = self.fc1_3(x)\n",
    "        x3 = self.relu(x3)\n",
    "        x3 = self.dropout(x3)\n",
    "        x3 = self.fc2_3(x3)\n",
    "\n",
    "        x4 = self.fc1_4(x)\n",
    "        x4 = self.relu(x4)\n",
    "        x4 = self.dropout(x4)\n",
    "        x4 = self.fc2_4(x4)\n",
    "\n",
    "        x5 = self.fc1_5(x)\n",
    "        x5 = self.relu(x5)\n",
    "        x5 = self.dropout(x5)\n",
    "        x5 = self.fc2_5(x5)\n",
    "\n",
    "        outputs = torch.stack((x1, x2, x3, x4, x5,))\n",
    "\n",
    "        return outputs"
   ]
  },
  {
   "cell_type": "code",
   "execution_count": 8,
   "metadata": {},
   "outputs": [],
   "source": [
    "from tqdm.auto import tqdm\n",
    "def train_model(model, optimizer, criterion, scheduler, epochs):\n",
    "    start_time = datetime.datetime.now().strftime('%Y-%m-%d_%H%M%S')\n",
    "    model_dir = os.path.join(current_dir, 'model', 'v1')\n",
    "    os.mkdir(os.path.join(model_dir, start_time))\n",
    "\n",
    "    avg_train_loss, avg_train_acc, avg_test_loss, avg_test_acc, time_elapsed = [],[],[],[],[]\n",
    "    torch.backends.cudnn.benchmark = True\n",
    "    for epoch in range(epochs):\n",
    "        t0_epoch = time.time()\n",
    "        model.train()\n",
    "        train_total, test_total = 0.0, 0.0\n",
    "        train_loss, train_acc, test_loss, test_acc = 0.0, 0.0, 0.0, 0.0\n",
    "        loss_list = [0] * captcha_length\n",
    "        \n",
    "        for x, label in tqdm(train_dataloader, leave=False):\n",
    "            x, label = x.to(device), label.to(device)\n",
    "            optimizer.zero_grad()\n",
    "            out = model(x)\n",
    "            for idx, c in enumerate(out):\n",
    "                loss_list[idx] = criterion(out[idx], label[:, idx])\n",
    "            loss = sum(loss_list)\n",
    "            train_loss += loss.item()\n",
    "\n",
    "            loss.backward()\n",
    "            optimizer.step()\n",
    "            pred = out.argmax(2)\n",
    "            acc = (pred == torch.transpose(label, 0, 1))\n",
    "            acc = (torch.all(acc, dim=0)).float().sum()\n",
    "            train_acc += acc.item()\n",
    "            train_total += label.size(0)\n",
    "        scheduler.step()\n",
    "\n",
    "        model.eval()\n",
    "        with torch.no_grad():\n",
    "            for test_x, test_label in test_dataloader:\n",
    "                test_x, test_label = test_x.to(device), test_label.to(device)\n",
    "                optimizer.zero_grad()\n",
    "                out = model(test_x)\n",
    "                for idx, c in enumerate(out):\n",
    "                    loss_list[idx] = criterion(out[idx], test_label[:, idx])\n",
    "                loss = sum(loss_list)\n",
    "\n",
    "                pred = out.argmax(2)\n",
    "                test_loss += loss.item()\n",
    "                acc = (pred == torch.transpose(test_label, 0, 1))\n",
    "                acc = (torch.all(acc, dim=0)).float().sum()\n",
    "                test_acc += acc.item()\n",
    "                test_total += test_label.size(0)\n",
    "\n",
    "        avg_train_loss.append(train_loss/ train_total)\n",
    "        avg_train_acc.append(train_acc/ train_total)\n",
    "        avg_test_loss.append(test_loss / test_total)\n",
    "        avg_test_acc.append(test_acc / test_total)\n",
    "        time_elapsed.append(time.time() - t0_epoch)\n",
    "        print(f\"{epoch + 1:^7} | {avg_train_loss[-1]:^12.6f} | {avg_train_acc[-1]:^12.6f} | {avg_test_loss[-1]:^12.6f} | {avg_test_acc[-1]:^12.6f} | {time_elapsed[-1]:^9.2f}\")\n",
    "    \n",
    "        torch.save(model.state_dict(), os.path.join(model_dir, start_time, str(epoch + 1) + '.pth'))\n",
    "    return avg_train_loss, avg_train_acc, avg_test_loss, avg_test_acc, time_elapsed"
   ]
  },
  {
   "cell_type": "code",
   "execution_count": 9,
   "metadata": {},
   "outputs": [
    {
     "name": "stderr",
     "output_type": "stream",
     "text": [
      "                                                 \r"
     ]
    },
    {
     "name": "stdout",
     "output_type": "stream",
     "text": [
      "   1    |   0.029158   |   0.125385   |   0.009468   |   0.496600   |   35.35  \n"
     ]
    },
    {
     "name": "stderr",
     "output_type": "stream",
     "text": [
      "                                                 \r"
     ]
    },
    {
     "name": "stdout",
     "output_type": "stream",
     "text": [
      "   2    |   0.009822   |   0.448780   |   0.004626   |   0.737080   |   32.14  \n"
     ]
    },
    {
     "name": "stderr",
     "output_type": "stream",
     "text": [
      "                                                 \r"
     ]
    },
    {
     "name": "stdout",
     "output_type": "stream",
     "text": [
      "   3    |   0.006182   |   0.618010   |   0.003125   |   0.819600   |   32.06  \n"
     ]
    },
    {
     "name": "stderr",
     "output_type": "stream",
     "text": [
      "                                                 \r"
     ]
    },
    {
     "name": "stdout",
     "output_type": "stream",
     "text": [
      "   4    |   0.004472   |   0.711040   |   0.002308   |   0.864600   |   32.62  \n"
     ]
    },
    {
     "name": "stderr",
     "output_type": "stream",
     "text": [
      "                                                 \r"
     ]
    },
    {
     "name": "stdout",
     "output_type": "stream",
     "text": [
      "   5    |   0.003501   |   0.766090   |   0.001854   |   0.891720   |   32.74  \n"
     ]
    },
    {
     "name": "stderr",
     "output_type": "stream",
     "text": [
      "                                                 \r"
     ]
    },
    {
     "name": "stdout",
     "output_type": "stream",
     "text": [
      "   6    |   0.002868   |   0.804370   |   0.001393   |   0.917380   |   32.93  \n"
     ]
    },
    {
     "name": "stderr",
     "output_type": "stream",
     "text": [
      "                                                 \r"
     ]
    },
    {
     "name": "stdout",
     "output_type": "stream",
     "text": [
      "   7    |   0.002446   |   0.829975   |   0.001245   |   0.924220   |   32.63  \n"
     ]
    },
    {
     "name": "stderr",
     "output_type": "stream",
     "text": [
      "                                                 \r"
     ]
    },
    {
     "name": "stdout",
     "output_type": "stream",
     "text": [
      "   8    |   0.002116   |   0.850440   |   0.001058   |   0.937260   |   33.16  \n"
     ]
    },
    {
     "name": "stderr",
     "output_type": "stream",
     "text": [
      "                                                 \r"
     ]
    },
    {
     "name": "stdout",
     "output_type": "stream",
     "text": [
      "   9    |   0.001867   |   0.866595   |   0.000943   |   0.943260   |   33.01  \n"
     ]
    },
    {
     "name": "stderr",
     "output_type": "stream",
     "text": [
      "                                                 \r"
     ]
    },
    {
     "name": "stdout",
     "output_type": "stream",
     "text": [
      "  10    |   0.001655   |   0.879505   |   0.000847   |   0.949660   |   32.93  \n"
     ]
    },
    {
     "name": "stderr",
     "output_type": "stream",
     "text": [
      "                                                 \r"
     ]
    },
    {
     "name": "stdout",
     "output_type": "stream",
     "text": [
      "  11    |   0.001133   |   0.915890   |   0.000637   |   0.962780   |   32.87  \n"
     ]
    },
    {
     "name": "stderr",
     "output_type": "stream",
     "text": [
      "                                                 \r"
     ]
    },
    {
     "name": "stdout",
     "output_type": "stream",
     "text": [
      "  12    |   0.000984   |   0.926770   |   0.000614   |   0.964560   |   32.97  \n"
     ]
    },
    {
     "name": "stderr",
     "output_type": "stream",
     "text": [
      "                                                 \r"
     ]
    },
    {
     "name": "stdout",
     "output_type": "stream",
     "text": [
      "  13    |   0.000914   |   0.929715   |   0.000620   |   0.964100   |   33.13  \n"
     ]
    },
    {
     "name": "stderr",
     "output_type": "stream",
     "text": [
      "                                                 \r"
     ]
    },
    {
     "name": "stdout",
     "output_type": "stream",
     "text": [
      "  14    |   0.000876   |   0.932850   |   0.000571   |   0.967900   |   32.89  \n"
     ]
    },
    {
     "name": "stderr",
     "output_type": "stream",
     "text": [
      "                                                 \r"
     ]
    },
    {
     "name": "stdout",
     "output_type": "stream",
     "text": [
      "  15    |   0.000816   |   0.936865   |   0.000553   |   0.969160   |   32.70  \n"
     ]
    },
    {
     "name": "stderr",
     "output_type": "stream",
     "text": [
      "                                                 \r"
     ]
    },
    {
     "name": "stdout",
     "output_type": "stream",
     "text": [
      "  16    |   0.000769   |   0.940720   |   0.000547   |   0.968420   |   33.06  \n"
     ]
    },
    {
     "name": "stderr",
     "output_type": "stream",
     "text": [
      "                                                 \r"
     ]
    },
    {
     "name": "stdout",
     "output_type": "stream",
     "text": [
      "  17    |   0.000748   |   0.941620   |   0.000544   |   0.969120   |   33.35  \n"
     ]
    },
    {
     "name": "stderr",
     "output_type": "stream",
     "text": [
      "                                                 \r"
     ]
    },
    {
     "name": "stdout",
     "output_type": "stream",
     "text": [
      "  18    |   0.000690   |   0.945865   |   0.000547   |   0.969480   |   33.54  \n"
     ]
    },
    {
     "name": "stderr",
     "output_type": "stream",
     "text": [
      "                                                 \r"
     ]
    },
    {
     "name": "stdout",
     "output_type": "stream",
     "text": [
      "  19    |   0.000663   |   0.948105   |   0.000543   |   0.970400   |   32.79  \n"
     ]
    },
    {
     "name": "stderr",
     "output_type": "stream",
     "text": [
      "                                                 \r"
     ]
    },
    {
     "name": "stdout",
     "output_type": "stream",
     "text": [
      "  20    |   0.000648   |   0.949155   |   0.000542   |   0.969940   |   32.54  \n"
     ]
    },
    {
     "name": "stderr",
     "output_type": "stream",
     "text": [
      "                                                 \r"
     ]
    },
    {
     "name": "stdout",
     "output_type": "stream",
     "text": [
      "  21    |   0.000484   |   0.961485   |   0.000472   |   0.975560   |   32.82  \n"
     ]
    },
    {
     "name": "stderr",
     "output_type": "stream",
     "text": [
      "                                                 \r"
     ]
    },
    {
     "name": "stdout",
     "output_type": "stream",
     "text": [
      "  22    |   0.000436   |   0.965390   |   0.000467   |   0.975980   |   33.53  \n"
     ]
    },
    {
     "name": "stderr",
     "output_type": "stream",
     "text": [
      "                                                 \r"
     ]
    },
    {
     "name": "stdout",
     "output_type": "stream",
     "text": [
      "  23    |   0.000424   |   0.966360   |   0.000478   |   0.976080   |   32.97  \n"
     ]
    },
    {
     "name": "stderr",
     "output_type": "stream",
     "text": [
      "                                                 \r"
     ]
    },
    {
     "name": "stdout",
     "output_type": "stream",
     "text": [
      "  24    |   0.000395   |   0.968255   |   0.000465   |   0.976200   |   32.06  \n"
     ]
    },
    {
     "name": "stderr",
     "output_type": "stream",
     "text": [
      "                                                 \r"
     ]
    },
    {
     "name": "stdout",
     "output_type": "stream",
     "text": [
      "  25    |   0.000380   |   0.969480   |   0.000473   |   0.975920   |   32.49  \n"
     ]
    },
    {
     "name": "stderr",
     "output_type": "stream",
     "text": [
      "                                                 \r"
     ]
    },
    {
     "name": "stdout",
     "output_type": "stream",
     "text": [
      "  26    |   0.000374   |   0.969990   |   0.000454   |   0.977000   |   32.03  \n"
     ]
    },
    {
     "name": "stderr",
     "output_type": "stream",
     "text": [
      "                                                 \r"
     ]
    },
    {
     "name": "stdout",
     "output_type": "stream",
     "text": [
      "  27    |   0.000352   |   0.971680   |   0.000471   |   0.976040   |   32.27  \n"
     ]
    },
    {
     "name": "stderr",
     "output_type": "stream",
     "text": [
      "                                                 \r"
     ]
    },
    {
     "name": "stdout",
     "output_type": "stream",
     "text": [
      "  28    |   0.000357   |   0.971185   |   0.000471   |   0.975600   |   32.14  \n"
     ]
    },
    {
     "name": "stderr",
     "output_type": "stream",
     "text": [
      "                                                 \r"
     ]
    },
    {
     "name": "stdout",
     "output_type": "stream",
     "text": [
      "  29    |   0.000331   |   0.972955   |   0.000461   |   0.976820   |   32.17  \n"
     ]
    },
    {
     "name": "stderr",
     "output_type": "stream",
     "text": [
      "                                                 \r"
     ]
    },
    {
     "name": "stdout",
     "output_type": "stream",
     "text": [
      "  30    |   0.000340   |   0.972575   |   0.000465   |   0.976700   |   32.37  \n"
     ]
    },
    {
     "name": "stderr",
     "output_type": "stream",
     "text": [
      "                                                 \r"
     ]
    },
    {
     "name": "stdout",
     "output_type": "stream",
     "text": [
      "  31    |   0.000278   |   0.977815   |   0.000454   |   0.978100   |   32.15  \n"
     ]
    },
    {
     "name": "stderr",
     "output_type": "stream",
     "text": [
      "                                                 \r"
     ]
    },
    {
     "name": "stdout",
     "output_type": "stream",
     "text": [
      "  32    |   0.000262   |   0.978685   |   0.000454   |   0.978560   |   32.62  \n"
     ]
    },
    {
     "name": "stderr",
     "output_type": "stream",
     "text": [
      "                                                 \r"
     ]
    },
    {
     "name": "stdout",
     "output_type": "stream",
     "text": [
      "  33    |   0.000257   |   0.979360   |   0.000437   |   0.978980   |   32.13  \n"
     ]
    },
    {
     "name": "stderr",
     "output_type": "stream",
     "text": [
      "                                                 \r"
     ]
    },
    {
     "name": "stdout",
     "output_type": "stream",
     "text": [
      "  34    |   0.000246   |   0.980030   |   0.000485   |   0.977140   |   32.17  \n"
     ]
    },
    {
     "name": "stderr",
     "output_type": "stream",
     "text": [
      "                                                 \r"
     ]
    },
    {
     "name": "stdout",
     "output_type": "stream",
     "text": [
      "  35    |   0.000238   |   0.980810   |   0.000436   |   0.980120   |   32.23  \n"
     ]
    },
    {
     "name": "stderr",
     "output_type": "stream",
     "text": [
      "                                                 \r"
     ]
    },
    {
     "name": "stdout",
     "output_type": "stream",
     "text": [
      "  36    |   0.000233   |   0.981125   |   0.000446   |   0.978920   |   32.40  \n"
     ]
    },
    {
     "name": "stderr",
     "output_type": "stream",
     "text": [
      "                                                 \r"
     ]
    },
    {
     "name": "stdout",
     "output_type": "stream",
     "text": [
      "  37    |   0.000229   |   0.981460   |   0.000444   |   0.979280   |   32.46  \n"
     ]
    },
    {
     "name": "stderr",
     "output_type": "stream",
     "text": [
      "                                                 \r"
     ]
    },
    {
     "name": "stdout",
     "output_type": "stream",
     "text": [
      "  38    |   0.000227   |   0.981470   |   0.000446   |   0.979620   |   32.61  \n"
     ]
    },
    {
     "name": "stderr",
     "output_type": "stream",
     "text": [
      "                                                 \r"
     ]
    },
    {
     "name": "stdout",
     "output_type": "stream",
     "text": [
      "  39    |   0.000220   |   0.982355   |   0.000451   |   0.979100   |   32.71  \n"
     ]
    },
    {
     "name": "stderr",
     "output_type": "stream",
     "text": [
      "                                                 \r"
     ]
    },
    {
     "name": "stdout",
     "output_type": "stream",
     "text": [
      "  40    |   0.000215   |   0.982395   |   0.000440   |   0.979900   |   32.49  \n"
     ]
    },
    {
     "name": "stderr",
     "output_type": "stream",
     "text": [
      "                                                 \r"
     ]
    },
    {
     "name": "stdout",
     "output_type": "stream",
     "text": [
      "  41    |   0.000199   |   0.984140   |   0.000444   |   0.979840   |   32.14  \n"
     ]
    },
    {
     "name": "stderr",
     "output_type": "stream",
     "text": [
      "                                                 \r"
     ]
    },
    {
     "name": "stdout",
     "output_type": "stream",
     "text": [
      "  42    |   0.000189   |   0.984760   |   0.000440   |   0.980240   |   32.79  \n"
     ]
    },
    {
     "name": "stderr",
     "output_type": "stream",
     "text": [
      "                                                 \r"
     ]
    },
    {
     "name": "stdout",
     "output_type": "stream",
     "text": [
      "  43    |   0.000181   |   0.985410   |   0.000446   |   0.979840   |   32.74  \n"
     ]
    },
    {
     "name": "stderr",
     "output_type": "stream",
     "text": [
      "                                                 \r"
     ]
    },
    {
     "name": "stdout",
     "output_type": "stream",
     "text": [
      "  44    |   0.000181   |   0.985215   |   0.000441   |   0.980140   |   33.23  \n"
     ]
    },
    {
     "name": "stderr",
     "output_type": "stream",
     "text": [
      "                                                 \r"
     ]
    },
    {
     "name": "stdout",
     "output_type": "stream",
     "text": [
      "  45    |   0.000179   |   0.985435   |   0.000448   |   0.979800   |   33.00  \n"
     ]
    },
    {
     "name": "stderr",
     "output_type": "stream",
     "text": [
      "                                                 \r"
     ]
    },
    {
     "name": "stdout",
     "output_type": "stream",
     "text": [
      "  46    |   0.000177   |   0.985695   |   0.000442   |   0.980380   |   33.10  \n"
     ]
    },
    {
     "name": "stderr",
     "output_type": "stream",
     "text": [
      "                                                 \r"
     ]
    },
    {
     "name": "stdout",
     "output_type": "stream",
     "text": [
      "  47    |   0.000177   |   0.985685   |   0.000442   |   0.980040   |   32.99  \n"
     ]
    },
    {
     "name": "stderr",
     "output_type": "stream",
     "text": [
      "                                                 \r"
     ]
    },
    {
     "name": "stdout",
     "output_type": "stream",
     "text": [
      "  48    |   0.000173   |   0.985985   |   0.000441   |   0.980200   |   33.20  \n"
     ]
    },
    {
     "name": "stderr",
     "output_type": "stream",
     "text": [
      "                                                 \r"
     ]
    },
    {
     "name": "stdout",
     "output_type": "stream",
     "text": [
      "  49    |   0.000168   |   0.986420   |   0.000445   |   0.980320   |   32.98  \n"
     ]
    },
    {
     "name": "stderr",
     "output_type": "stream",
     "text": [
      "                                                 \r"
     ]
    },
    {
     "name": "stdout",
     "output_type": "stream",
     "text": [
      "  50    |   0.000167   |   0.986465   |   0.000440   |   0.980480   |   32.75  \n"
     ]
    }
   ],
   "source": [
    "model = Net()\n",
    "optimizer = optim.Adam(model.parameters(), lr=0.001)\n",
    "criterion = nn.CrossEntropyLoss()\n",
    "model.to(device)\n",
    "criterion.to(device)\n",
    "scheduler = StepLR(optimizer, step_size=10, gamma=0.5)\n",
    "epochs = 50\n",
    "avg_train_loss, avg_train_acc, avg_test_loss, avg_test_acc, time_elapsed = train_model(model,optimizer,criterion,scheduler,epochs)"
   ]
  },
  {
   "cell_type": "code",
   "execution_count": 10,
   "metadata": {},
   "outputs": [
    {
     "data": {
      "text/plain": [
       "[<matplotlib.lines.Line2D at 0x7fb8bf9ea400>]"
      ]
     },
     "execution_count": 10,
     "metadata": {},
     "output_type": "execute_result"
    },
    {
     "data": {
      "image/png": "[encoded data removed]",
      "text/plain": [
       "<Figure size 1440x360 with 2 Axes>"
      ]
     },
     "metadata": {
      "needs_background": "light"
     },
     "output_type": "display_data"
    }
   ],
   "source": [
    "fig, ax = plt.subplots(1, 2, figsize=(20, 5))\n",
    "ax[0].plot(avg_train_loss, 'ro-')\n",
    "ax[0].plot(avg_test_loss, 'bs-')\n",
    "ax[1].plot(avg_train_acc, 'ro-')\n",
    "ax[1].plot(avg_test_acc, 'bs-')"
   ]
  }
 ],
 "metadata": {
  "kernelspec": {
   "display_name": "Python 3.8.10 64-bit",
   "language": "python",
   "name": "python3"
  },
  "language_info": {
   "codemirror_mode": {
    "name": "ipython",
    "version": 3
   },
   "file_extension": ".py",
   "mimetype": "text/x-python",
   "name": "python",
   "nbconvert_exporter": "python",
   "pygments_lexer": "ipython3",
   "version": "3.8.10"
  },
  "orig_nbformat": 4,
  "vscode": {
   "interpreter": {
    "hash": "916dbcbb3f70747c44a77c7bcd40155683ae19c65e1c03b4aa3499c5328201f1"
   }
  }
 },
 "nbformat": 4,
 "nbformat_minor": 2
}
