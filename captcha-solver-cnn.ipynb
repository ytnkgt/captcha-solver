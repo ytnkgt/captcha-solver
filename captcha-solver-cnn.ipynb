{
 "cells": [
  {
   "cell_type": "code",
   "execution_count": 14,
   "metadata": {},
   "outputs": [],
   "source": [
    "import os\n",
    "import time\n",
    "import datetime\n",
    "import string\n",
    "from PIL import Image\n",
    "import logging\n",
    "import matplotlib.pyplot as plt\n",
    "\n",
    "import torch\n",
    "from torch import nn\n",
    "import torch.optim as optim\n",
    "import torch.nn.functional as F\n",
    "from torch.utils.data import Dataset, DataLoader\n",
    "from torch.utils.data import sampler\n",
    "import torchvision.transforms as transforms\n",
    "from torch.optim.lr_scheduler import StepLR\n",
    "from torch.nn.utils.clip_grad import clip_grad_norm_\n",
    "from torch.utils.data import random_split\n",
    "\n",
    "from tqdm import *"
   ]
  },
  {
   "cell_type": "markdown",
   "metadata": {},
   "source": [
    "### Define default settings"
   ]
  },
  {
   "cell_type": "code",
   "execution_count": 15,
   "metadata": {},
   "outputs": [
    {
     "data": {
      "text/plain": [
       "(device(type='cuda'), True, 'NVIDIA GeForce RTX 3070 Laptop GPU', 1)"
      ]
     },
     "execution_count": 15,
     "metadata": {},
     "output_type": "execute_result"
    }
   ],
   "source": [
    "current_dir = os.path.abspath(os.path.curdir)\n",
    "root_dir = os.path.join(current_dir, 'data', 'img')\n",
    "symbols = string.ascii_lowercase + string.digits\n",
    "num_symbols = len(symbols)\n",
    "captcha_length = 5\n",
    "num_symbols\n",
    "device = torch.device('cuda' if torch.cuda.is_available() else 'cpu')\n",
    "device, torch.cuda.is_available(), torch.cuda.get_device_name(), torch.cuda.device_count()"
   ]
  },
  {
   "cell_type": "markdown",
   "metadata": {},
   "source": [
    "### Tokenization\n"
   ]
  },
  {
   "cell_type": "code",
   "execution_count": 16,
   "metadata": {},
   "outputs": [],
   "source": [
    "int2char = dict(enumerate(symbols))\n",
    "char2int = {v: k for k, v in int2char.items()}\n",
    "\n",
    "def tokenize(chars):\n",
    "    return torch.tensor([char2int[s] for s in list(chars)])\n",
    "\n",
    "def untokenize(token):\n",
    "    return ''.join([int2char[i] for i in token.squeeze().tolist()])"
   ]
  },
  {
   "cell_type": "markdown",
   "metadata": {},
   "source": [
    "### Loading dataset"
   ]
  },
  {
   "cell_type": "code",
   "execution_count": 17,
   "metadata": {},
   "outputs": [
    {
     "name": "stdout",
     "output_type": "stream",
     "text": [
      "train size: 400000 test size: 100000\n"
     ]
    }
   ],
   "source": [
    "class Transform(object):\n",
    "    def __call__(self, x):\n",
    "        x = transforms.functional.to_grayscale(x)\n",
    "        x = transforms.functional.to_tensor(x)\n",
    "        x = transforms.functional.invert(x)\n",
    "        x = transforms.functional.resize(x, [50, 120])\n",
    "        x = x > 0.3\n",
    "        return x.float()\n",
    "\n",
    "class CaptchaDataset(Dataset):\n",
    "    def __init__(self, root_dir, transform_list = None):\n",
    "        super(CaptchaDataset, self).__init__()\n",
    "        self.root_dir = root_dir\n",
    "        self.images = os.listdir(self.root_dir)\n",
    "        self.nSamples = len(self.images)\n",
    "        transform_list = transform_list\n",
    "        self.transform = transforms.Compose(transform_list)\n",
    "    \n",
    "    def __len__(self):\n",
    "        return self.nSamples\n",
    "    \n",
    "    def __getitem__(self, idx):\n",
    "        if torch.is_tensor(idx):\n",
    "            idx = idx.tolist()\n",
    "        \n",
    "        img_name = os.path.join(self.root_dir, self.images[idx])\n",
    "        image = Image.open(img_name)\n",
    "        labels = tokenize(os.path.splitext(self.images[idx])[0])\n",
    "        if self.transform is not None:\n",
    "            image = self.transform(image)\n",
    "        return image, labels\n",
    "\n",
    "transform_list = [Transform()]\n",
    "        \n",
    "data = CaptchaDataset(root_dir, transform_list=transform_list)\n",
    "train_size = int(0.8 * len(data))\n",
    "test_size = len(data) - train_size\n",
    "train_data, test_data = torch.utils.data.random_split(data, [train_size, test_size])\n",
    "print('train size: ' + str(len(train_data)), 'test size: ' + str(len(test_data)))"
   ]
  },
  {
   "cell_type": "code",
   "execution_count": 18,
   "metadata": {},
   "outputs": [
    {
     "data": {
      "image/png": "[encoded data removed]",
      "text/plain": [
       "<Figure size 432x288 with 1 Axes>"
      ]
     },
     "metadata": {
      "needs_background": "light"
     },
     "output_type": "display_data"
    }
   ],
   "source": [
    "import random\n",
    "def show_sample_image(dataset):\n",
    "    idx = random.randint(0, len(dataset))\n",
    "    img = torch.squeeze(dataset[idx][0]).numpy()\n",
    "    label = untokenize(dataset[idx][1])\n",
    "    plt.imshow(img, cmap='gray')\n",
    "    plt.title(label)\n",
    "    plt.show\n",
    "\n",
    "show_sample_image(train_data)"
   ]
  },
  {
   "cell_type": "code",
   "execution_count": 19,
   "metadata": {},
   "outputs": [],
   "source": [
    "batch_size=512\n",
    "\n",
    "train_dataloader = DataLoader(train_data, batch_size=batch_size, shuffle=True, num_workers=6, pin_memory=True)\n",
    "test_dataloader = DataLoader(test_data, batch_size=batch_size, shuffle=False, num_workers=6, pin_memory=True)"
   ]
  },
  {
   "cell_type": "code",
   "execution_count": 20,
   "metadata": {},
   "outputs": [],
   "source": [
    "class Net(nn.Module):\n",
    "\n",
    "    def __init__(self):\n",
    "        super(Net, self).__init__()\n",
    "        self.relu = nn.ReLU()\n",
    "        self.pool = nn.MaxPool2d(2, 2)\n",
    "        self.conv1 = nn.Conv2d(in_channels=1, out_channels=16, kernel_size=5, stride=1, padding=2) # param size: 1 * 16 * 5 * 5\n",
    "        self.conv2 = nn.Conv2d(in_channels=16, out_channels=32, kernel_size=5, stride=1, padding=2) # param size: 32 * 16 * 5 * 5\n",
    "        self.conv3 = nn.Conv2d(in_channels=32, out_channels=64, kernel_size=5, stride=1, padding=2) # param size: 32 * 16 * 5 * 5\n",
    "        # an affine operation: y = Wx + b\n",
    "        self.fc1_1 = nn.Linear(64 * 6 * 15, 1024)  \n",
    "        self.fc1_2 = nn.Linear(64 * 6 * 15, 1024)  \n",
    "        self.fc1_3 = nn.Linear(64 * 6 * 15, 1024)  \n",
    "        self.fc1_4 = nn.Linear(64 * 6 * 15, 1024)  \n",
    "        self.fc1_5 = nn.Linear(64 * 6 * 15, 1024) \n",
    "        self.fc2_1 = nn.Linear(1024, num_symbols)  \n",
    "        self.fc2_2 = nn.Linear(1024, num_symbols)  \n",
    "        self.fc2_3 = nn.Linear(1024, num_symbols)  \n",
    "        self.fc2_4 = nn.Linear(1024, num_symbols)  \n",
    "        self.fc2_5 = nn.Linear(1024, num_symbols)\n",
    "        self.dropout = nn.Dropout(0.5)\n",
    "        self.softmax = nn.Softmax(0)\n",
    "\n",
    "    def forward(self, x):\n",
    "        x = self.conv1(x) \n",
    "        x = self.relu(x)\n",
    "        x = self.pool(x) # output image size: 25 x 60\n",
    "        x = self.conv2(x)\n",
    "        x = self.relu(x)\n",
    "        x = self.pool(x) # output image size: 12 x 30\n",
    "        x = self.conv3(x)\n",
    "        x = self.relu(x)\n",
    "        x = self.pool(x) # output image size: 6 x 15\n",
    "        x = x.view(x.size()[0], -1) # flatten all dimensions except the batch dimension\n",
    "        x1 = self.fc1_1(x)\n",
    "        x1 = self.relu(x1)\n",
    "        x1 = self.dropout(x1)\n",
    "        x1 = self.fc2_1(x1)\n",
    "\n",
    "        x2 = self.fc1_2(x)\n",
    "        x2 = self.relu(x2)\n",
    "        x2 = self.dropout(x2)\n",
    "        x2 = self.fc2_2(x2)\n",
    "\n",
    "        x3 = self.fc1_3(x)\n",
    "        x3 = self.relu(x3)\n",
    "        x3 = self.dropout(x3)\n",
    "        x3 = self.fc2_3(x3)\n",
    "\n",
    "        x4 = self.fc1_4(x)\n",
    "        x4 = self.relu(x4)\n",
    "        x4 = self.dropout(x4)\n",
    "        x4 = self.fc2_4(x4)\n",
    "\n",
    "        x5 = self.fc1_5(x)\n",
    "        x5 = self.relu(x5)\n",
    "        x5 = self.dropout(x5)\n",
    "        x5 = self.fc2_5(x5)\n",
    "\n",
    "        outputs = torch.stack((x1, x2, x3, x4, x5,))\n",
    "\n",
    "        return outputs"
   ]
  },
  {
   "cell_type": "code",
   "execution_count": 21,
   "metadata": {},
   "outputs": [
    {
     "name": "stderr",
     "output_type": "stream",
     "text": [
      "                                                 \r"
     ]
    },
    {
     "name": "stdout",
     "output_type": "stream",
     "text": [
      "   1    |   0.012497   |   0.211322   |   0.002781   |   0.673610   |   54.53  \n"
     ]
    },
    {
     "name": "stderr",
     "output_type": "stream",
     "text": [
      "                                                 \r"
     ]
    },
    {
     "name": "stdout",
     "output_type": "stream",
     "text": [
      "   2    |   0.003290   |   0.589655   |   0.001319   |   0.839190   |   54.22  \n"
     ]
    },
    {
     "name": "stderr",
     "output_type": "stream",
     "text": [
      "                                                 \r"
     ]
    },
    {
     "name": "stdout",
     "output_type": "stream",
     "text": [
      "   3    |   0.002065   |   0.724150   |   0.000903   |   0.888060   |   53.39  \n"
     ]
    },
    {
     "name": "stderr",
     "output_type": "stream",
     "text": [
      "                                                 \r"
     ]
    },
    {
     "name": "stdout",
     "output_type": "stream",
     "text": [
      "   4    |   0.001516   |   0.792045   |   0.000577   |   0.931040   |   53.06  \n"
     ]
    },
    {
     "name": "stderr",
     "output_type": "stream",
     "text": [
      "                                                 \r"
     ]
    },
    {
     "name": "stdout",
     "output_type": "stream",
     "text": [
      "   5    |   0.001182   |   0.834472   |   0.000454   |   0.945330   |   54.43  \n"
     ]
    },
    {
     "name": "stderr",
     "output_type": "stream",
     "text": [
      "                                                 \r"
     ]
    },
    {
     "name": "stdout",
     "output_type": "stream",
     "text": [
      "   6    |   0.000974   |   0.861433   |   0.000391   |   0.952170   |   53.16  \n"
     ]
    },
    {
     "name": "stderr",
     "output_type": "stream",
     "text": [
      "                                                 \r"
     ]
    },
    {
     "name": "stdout",
     "output_type": "stream",
     "text": [
      "   7    |   0.000827   |   0.880770   |   0.000326   |   0.959830   |   54.37  \n"
     ]
    },
    {
     "name": "stderr",
     "output_type": "stream",
     "text": [
      "                                                 \r"
     ]
    },
    {
     "name": "stdout",
     "output_type": "stream",
     "text": [
      "   8    |   0.000725   |   0.894153   |   0.000284   |   0.965970   |   54.27  \n"
     ]
    },
    {
     "name": "stderr",
     "output_type": "stream",
     "text": [
      "                                                 \r"
     ]
    },
    {
     "name": "stdout",
     "output_type": "stream",
     "text": [
      "   9    |   0.000635   |   0.906150   |   0.000239   |   0.971000   |   53.84  \n"
     ]
    },
    {
     "name": "stderr",
     "output_type": "stream",
     "text": [
      "                                                 \r"
     ]
    },
    {
     "name": "stdout",
     "output_type": "stream",
     "text": [
      "  10    |   0.000571   |   0.914632   |   0.000218   |   0.974040   |   53.43  \n"
     ]
    },
    {
     "name": "stderr",
     "output_type": "stream",
     "text": [
      "                                                 \r"
     ]
    },
    {
     "name": "stdout",
     "output_type": "stream",
     "text": [
      "  11    |   0.000393   |   0.940910   |   0.000183   |   0.978890   |   53.68  \n"
     ]
    },
    {
     "name": "stderr",
     "output_type": "stream",
     "text": [
      "                                                 \r"
     ]
    },
    {
     "name": "stdout",
     "output_type": "stream",
     "text": [
      "  12    |   0.000349   |   0.946688   |   0.000175   |   0.979890   |   53.31  \n"
     ]
    },
    {
     "name": "stderr",
     "output_type": "stream",
     "text": [
      "                                                 \r"
     ]
    },
    {
     "name": "stdout",
     "output_type": "stream",
     "text": [
      "  13    |   0.000321   |   0.950113   |   0.000175   |   0.978880   |   53.60  \n"
     ]
    },
    {
     "name": "stderr",
     "output_type": "stream",
     "text": [
      "                                                 \r"
     ]
    },
    {
     "name": "stdout",
     "output_type": "stream",
     "text": [
      "  14    |   0.000306   |   0.952690   |   0.000161   |   0.981710   |   53.57  \n"
     ]
    },
    {
     "name": "stderr",
     "output_type": "stream",
     "text": [
      "                                                 \r"
     ]
    },
    {
     "name": "stdout",
     "output_type": "stream",
     "text": [
      "  15    |   0.000285   |   0.955538   |   0.000161   |   0.981510   |   53.76  \n"
     ]
    },
    {
     "name": "stderr",
     "output_type": "stream",
     "text": [
      "                                                 \r"
     ]
    },
    {
     "name": "stdout",
     "output_type": "stream",
     "text": [
      "  16    |   0.000277   |   0.956430   |   0.000149   |   0.983560   |   53.31  \n"
     ]
    },
    {
     "name": "stderr",
     "output_type": "stream",
     "text": [
      "                                                 \r"
     ]
    },
    {
     "name": "stdout",
     "output_type": "stream",
     "text": [
      "  17    |   0.000265   |   0.958065   |   0.000156   |   0.982610   |   53.61  \n"
     ]
    },
    {
     "name": "stderr",
     "output_type": "stream",
     "text": [
      "                                                 \r"
     ]
    },
    {
     "name": "stdout",
     "output_type": "stream",
     "text": [
      "  18    |   0.000251   |   0.960457   |   0.000145   |   0.983740   |   53.90  \n"
     ]
    },
    {
     "name": "stderr",
     "output_type": "stream",
     "text": [
      "                                                 \r"
     ]
    },
    {
     "name": "stdout",
     "output_type": "stream",
     "text": [
      "  19    |   0.000245   |   0.961052   |   0.000149   |   0.984100   |   53.50  \n"
     ]
    },
    {
     "name": "stderr",
     "output_type": "stream",
     "text": [
      "                                                 \r"
     ]
    },
    {
     "name": "stdout",
     "output_type": "stream",
     "text": [
      "  20    |   0.000228   |   0.963565   |   0.000139   |   0.984550   |   53.25  \n"
     ]
    },
    {
     "name": "stderr",
     "output_type": "stream",
     "text": [
      "                                                 \r"
     ]
    },
    {
     "name": "stdout",
     "output_type": "stream",
     "text": [
      "  21    |   0.000176   |   0.971775   |   0.000131   |   0.986380   |   53.28  \n"
     ]
    },
    {
     "name": "stderr",
     "output_type": "stream",
     "text": [
      "                                                 \r"
     ]
    },
    {
     "name": "stdout",
     "output_type": "stream",
     "text": [
      "  22    |   0.000160   |   0.974655   |   0.000128   |   0.986500   |   53.46  \n"
     ]
    },
    {
     "name": "stderr",
     "output_type": "stream",
     "text": [
      "                                                 \r"
     ]
    },
    {
     "name": "stdout",
     "output_type": "stream",
     "text": [
      "  23    |   0.000150   |   0.975710   |   0.000134   |   0.986150   |   54.28  \n"
     ]
    },
    {
     "name": "stderr",
     "output_type": "stream",
     "text": [
      "                                                 \r"
     ]
    },
    {
     "name": "stdout",
     "output_type": "stream",
     "text": [
      "  24    |   0.000146   |   0.976325   |   0.000136   |   0.986170   |   54.02  \n"
     ]
    },
    {
     "name": "stderr",
     "output_type": "stream",
     "text": [
      "                                                 \r"
     ]
    },
    {
     "name": "stdout",
     "output_type": "stream",
     "text": [
      "  25    |   0.000137   |   0.977715   |   0.000130   |   0.986640   |   53.66  \n"
     ]
    },
    {
     "name": "stderr",
     "output_type": "stream",
     "text": [
      "                                                 \r"
     ]
    },
    {
     "name": "stdout",
     "output_type": "stream",
     "text": [
      "  26    |   0.000136   |   0.977962   |   0.000127   |   0.987050   |   53.65  \n"
     ]
    },
    {
     "name": "stderr",
     "output_type": "stream",
     "text": [
      "                                                 \r"
     ]
    },
    {
     "name": "stdout",
     "output_type": "stream",
     "text": [
      "  27    |   0.000131   |   0.978695   |   0.000124   |   0.987680   |   53.75  \n"
     ]
    },
    {
     "name": "stderr",
     "output_type": "stream",
     "text": [
      "                                                 \r"
     ]
    },
    {
     "name": "stdout",
     "output_type": "stream",
     "text": [
      "  28    |   0.000127   |   0.979208   |   0.000130   |   0.987300   |   54.89  \n"
     ]
    },
    {
     "name": "stderr",
     "output_type": "stream",
     "text": [
      "                                                 \r"
     ]
    },
    {
     "name": "stdout",
     "output_type": "stream",
     "text": [
      "  29    |   0.000125   |   0.979912   |   0.000127   |   0.987510   |   54.37  \n"
     ]
    },
    {
     "name": "stderr",
     "output_type": "stream",
     "text": [
      "                                                 \r"
     ]
    },
    {
     "name": "stdout",
     "output_type": "stream",
     "text": [
      "  30    |   0.000122   |   0.980113   |   0.000125   |   0.987760   |   54.40  \n"
     ]
    },
    {
     "name": "stderr",
     "output_type": "stream",
     "text": [
      "                                                 \r"
     ]
    },
    {
     "name": "stdout",
     "output_type": "stream",
     "text": [
      "  31    |   0.000103   |   0.982988   |   0.000125   |   0.988040   |   54.56  \n"
     ]
    },
    {
     "name": "stderr",
     "output_type": "stream",
     "text": [
      "                                                 \r"
     ]
    },
    {
     "name": "stdout",
     "output_type": "stream",
     "text": [
      "  32    |   0.000095   |   0.984472   |   0.000127   |   0.987840   |   54.26  \n"
     ]
    },
    {
     "name": "stderr",
     "output_type": "stream",
     "text": [
      "                                                 \r"
     ]
    },
    {
     "name": "stdout",
     "output_type": "stream",
     "text": [
      "  33    |   0.000094   |   0.984610   |   0.000124   |   0.988340   |   54.77  \n"
     ]
    },
    {
     "name": "stderr",
     "output_type": "stream",
     "text": [
      "                                                 \r"
     ]
    },
    {
     "name": "stdout",
     "output_type": "stream",
     "text": [
      "  34    |   0.000088   |   0.985472   |   0.000126   |   0.988260   |   54.57  \n"
     ]
    },
    {
     "name": "stderr",
     "output_type": "stream",
     "text": [
      "                                                 \r"
     ]
    },
    {
     "name": "stdout",
     "output_type": "stream",
     "text": [
      "  35    |   0.000090   |   0.985520   |   0.000123   |   0.988530   |   60.22  \n"
     ]
    },
    {
     "name": "stderr",
     "output_type": "stream",
     "text": [
      "                                                 \r"
     ]
    },
    {
     "name": "stdout",
     "output_type": "stream",
     "text": [
      "  36    |   0.000085   |   0.985980   |   0.000123   |   0.988390   |   54.62  \n"
     ]
    },
    {
     "name": "stderr",
     "output_type": "stream",
     "text": [
      "                                                 \r"
     ]
    },
    {
     "name": "stdout",
     "output_type": "stream",
     "text": [
      "  37    |   0.000085   |   0.986210   |   0.000126   |   0.988500   |   54.49  \n"
     ]
    },
    {
     "name": "stderr",
     "output_type": "stream",
     "text": [
      "                                                 \r"
     ]
    },
    {
     "name": "stdout",
     "output_type": "stream",
     "text": [
      "  38    |   0.000082   |   0.986513   |   0.000125   |   0.988550   |   54.78  \n"
     ]
    },
    {
     "name": "stderr",
     "output_type": "stream",
     "text": [
      "                                                 \r"
     ]
    },
    {
     "name": "stdout",
     "output_type": "stream",
     "text": [
      "  39    |   0.000080   |   0.986790   |   0.000130   |   0.988280   |   54.94  \n"
     ]
    },
    {
     "name": "stderr",
     "output_type": "stream",
     "text": [
      "                                                 \r"
     ]
    },
    {
     "name": "stdout",
     "output_type": "stream",
     "text": [
      "  40    |   0.000078   |   0.987217   |   0.000130   |   0.988520   |   57.01  \n"
     ]
    },
    {
     "name": "stderr",
     "output_type": "stream",
     "text": [
      "                                                 \r"
     ]
    },
    {
     "name": "stdout",
     "output_type": "stream",
     "text": [
      "  41    |   0.000074   |   0.987940   |   0.000127   |   0.988690   |   53.84  \n"
     ]
    },
    {
     "name": "stderr",
     "output_type": "stream",
     "text": [
      "                                                 \r"
     ]
    },
    {
     "name": "stdout",
     "output_type": "stream",
     "text": [
      "  42    |   0.000071   |   0.988485   |   0.000129   |   0.988320   |   53.90  \n"
     ]
    },
    {
     "name": "stderr",
     "output_type": "stream",
     "text": [
      "                                                 \r"
     ]
    },
    {
     "name": "stdout",
     "output_type": "stream",
     "text": [
      "  43    |   0.000067   |   0.988940   |   0.000122   |   0.989360   |   53.75  \n"
     ]
    },
    {
     "name": "stderr",
     "output_type": "stream",
     "text": [
      "                                                 \r"
     ]
    },
    {
     "name": "stdout",
     "output_type": "stream",
     "text": [
      "  44    |   0.000068   |   0.988910   |   0.000125   |   0.989170   |   54.01  \n"
     ]
    },
    {
     "name": "stderr",
     "output_type": "stream",
     "text": [
      "                                                 \r"
     ]
    },
    {
     "name": "stdout",
     "output_type": "stream",
     "text": [
      "  45    |   0.000067   |   0.988765   |   0.000126   |   0.988670   |   53.98  \n"
     ]
    },
    {
     "name": "stderr",
     "output_type": "stream",
     "text": [
      "                                                 \r"
     ]
    },
    {
     "name": "stdout",
     "output_type": "stream",
     "text": [
      "  46    |   0.000065   |   0.989443   |   0.000129   |   0.988650   |   54.22  \n"
     ]
    },
    {
     "name": "stderr",
     "output_type": "stream",
     "text": [
      "                                                 \r"
     ]
    },
    {
     "name": "stdout",
     "output_type": "stream",
     "text": [
      "  47    |   0.000064   |   0.989445   |   0.000128   |   0.988570   |   55.13  \n"
     ]
    },
    {
     "name": "stderr",
     "output_type": "stream",
     "text": [
      "                                                 \r"
     ]
    },
    {
     "name": "stdout",
     "output_type": "stream",
     "text": [
      "  48    |   0.000064   |   0.989677   |   0.000127   |   0.988910   |   53.87  \n"
     ]
    },
    {
     "name": "stderr",
     "output_type": "stream",
     "text": [
      "                                                 \r"
     ]
    },
    {
     "name": "stdout",
     "output_type": "stream",
     "text": [
      "  49    |   0.000063   |   0.989897   |   0.000127   |   0.988990   |   54.12  \n"
     ]
    },
    {
     "name": "stderr",
     "output_type": "stream",
     "text": [
      "                                                 \r"
     ]
    },
    {
     "name": "stdout",
     "output_type": "stream",
     "text": [
      "  50    |   0.000062   |   0.989650   |   0.000126   |   0.989290   |   53.71  \n"
     ]
    }
   ],
   "source": [
    "model = Net()\n",
    "optimizer = optim.Adam(model.parameters(), lr=0.001)\n",
    "# optimizer = optim.SGD(model.parameters(), lr=0.01)\n",
    "criterion = nn.CrossEntropyLoss()\n",
    "model.to(device)\n",
    "criterion.to(device)\n",
    "\n",
    "from tqdm.auto import tqdm\n",
    "epochs = 50\n",
    "start_time = datetime.datetime.now().strftime('%Y-%m-%d_%H%M%S')\n",
    "model_dir = os.path.join(current_dir, 'model', 'v1')\n",
    "os.mkdir(os.path.join(model_dir, start_time))\n",
    "log_file = os.path.join(model_dir , 'log', start_time + '.log')\n",
    "logger = logging.getLogger()\n",
    "logger.setLevel(logging.INFO)\n",
    "output_handler = logging.FileHandler(log_file)\n",
    "logger.addHandler(output_handler)\n",
    "scheduler = StepLR(optimizer, step_size=10, gamma=0.5)\n",
    "logger.info(f'scheduler: {scheduler.step_size:^5}, {scheduler.gamma:^5}')\n",
    "\n",
    "torch.backends.cudnn.benchmark = True\n",
    "for epoch in range(epochs):\n",
    "    t0_epoch = time.time()\n",
    "    model.train()\n",
    "    train_total, test_total = 0.0, 0.0\n",
    "    train_loss, train_acc, test_loss, test_acc = 0.0, 0.0, 0.0, 0.0\n",
    "    loss_list = [0] * captcha_length\n",
    "    \n",
    "    for x, label in tqdm(train_dataloader, leave=False):\n",
    "        x, label = x.to(device), label.to(device)\n",
    "        optimizer.zero_grad()\n",
    "        out = model(x)\n",
    "        for idx, c in enumerate(out):\n",
    "            loss_list[idx] = criterion(out[idx], label[:, idx])\n",
    "        loss = sum(loss_list)\n",
    "        loss.backward()\n",
    "        optimizer.step()\n",
    "        train_loss += loss.item()\n",
    "        pred = out.argmax(2)\n",
    "        acc = (pred == torch.transpose(label, 0, 1))\n",
    "        acc = (torch.all(acc, dim=0)).float().sum()\n",
    "        train_acc += acc.item()\n",
    "        train_total += label.size(0)\n",
    "    scheduler.step()\n",
    "\n",
    "    model.eval()\n",
    "    for test_x, test_label in test_dataloader:\n",
    "        test_x, test_label = test_x.to(device), test_label.to(device)\n",
    "        optimizer.zero_grad()\n",
    "        out = model(test_x)\n",
    "        for idx, c in enumerate(out):\n",
    "            loss_list[idx] = criterion(out[idx], test_label[:, idx])\n",
    "        loss = sum(loss_list)\n",
    "\n",
    "        pred = out.argmax(2)\n",
    "        test_loss += loss.item()\n",
    "        acc = (pred == torch.transpose(test_label, 0, 1))\n",
    "        acc = (torch.all(acc, dim=0)).float().sum()\n",
    "        test_acc += acc.item()\n",
    "        test_total += test_label.size(0)\n",
    "\n",
    "    avg_train_loss = train_loss/ train_total\n",
    "    avg_train_acc = train_acc/ train_total\n",
    "    avg_test_loss = test_loss / test_total\n",
    "    avg_test_acc = test_acc / test_total\n",
    "    time_elapsed = time.time() - t0_epoch\n",
    "    print(f\"{epoch + 1:^7} | {avg_train_loss:^12.6f} | {avg_train_acc:^12.6f} | {avg_test_loss:^12.6f} | {avg_test_acc:^12.6f} | {time_elapsed:^9.2f}\")\n",
    "    logger.info(f\"{epoch + 1:^7} | {avg_train_loss:^12.6f} | {avg_train_acc:^12.6f} | {avg_test_loss:^12.6f} | {avg_test_acc:^12.6f} | {time_elapsed:^9.2f}\")\n",
    "\n",
    "    torch.save(model.state_dict(), os.path.join(model_dir, start_time, str(epoch + 1) + '.pth'))"
   ]
  }
 ],
 "metadata": {
  "kernelspec": {
   "display_name": "Python 3.8.10 64-bit",
   "language": "python",
   "name": "python3"
  },
  "language_info": {
   "codemirror_mode": {
    "name": "ipython",
    "version": 3
   },
   "file_extension": ".py",
   "mimetype": "text/x-python",
   "name": "python",
   "nbconvert_exporter": "python",
   "pygments_lexer": "ipython3",
   "version": "3.8.10"
  },
  "orig_nbformat": 4,
  "vscode": {
   "interpreter": {
    "hash": "916dbcbb3f70747c44a77c7bcd40155683ae19c65e1c03b4aa3499c5328201f1"
   }
  }
 },
 "nbformat": 4,
 "nbformat_minor": 2
}
