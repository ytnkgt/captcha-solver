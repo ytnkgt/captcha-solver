{
 "cells": [
  {
   "cell_type": "markdown",
   "metadata": {},
   "source": [
    "### Generating a lot of captcha image files for training"
   ]
  },
  {
   "cell_type": "code",
   "execution_count": 4,
   "metadata": {},
   "outputs": [
    {
     "data": {
      "image/png": "[encoded data removed]",
      "text/plain": [
       "<PIL.Image.Image image mode=RGB size=120x50>"
      ]
     },
     "execution_count": 4,
     "metadata": {},
     "output_type": "execute_result"
    }
   ],
   "source": [
    "from PIL import ImageFont, ImageDraw, Image\n",
    "import numpy as np\n",
    "import string\n",
    "import random\n",
    "import math\n",
    "\n",
    "# returning a captcha image in np.array\n",
    "def generate_captcha(symbols, captcha_len):\n",
    "    img = np.full(shape=(100, 200, 3), fill_value=255, dtype=np.uint8)\n",
    "    img_pil = Image.fromarray(img)\n",
    "    text_size = random.randint(26,28)\n",
    "    text_position = (random.randint(10, 20), random.randint(5, 10))\n",
    "    font=random.choice(['DejaVuSerif-Bold'])\n",
    "\n",
    "    draw = ImageDraw.Draw(img_pil)\n",
    "    font = ImageFont.truetype(font=font, size=text_size)\n",
    "    answer = ''.join(random.sample(symbols, captcha_len))\n",
    "    draw.text(text_position, answer, font=font, fill=(100,100,100))\n",
    "\n",
    "    return np.array(img_pil, dtype=np.uint8), answer\n",
    "\n",
    "# adding warp effect to an image\n",
    "def warp_image(input):\n",
    "    rows, cols = input.shape[:2]\n",
    "    freq_x = random.randint(4, 7) * random.choice([1, -1])\n",
    "    freq_y = random.randint(5, 10) * random.choice([1, -1])\n",
    "    depth_x = random.randint(4, 5) * random.choice([1, -1])\n",
    "    depth_y = random.randint(5, 8) * random.choice([1, -1])\n",
    "    output = np.zeros(input.shape, dtype=input.dtype)\n",
    "    for i in range(rows):\n",
    "        for j in range(cols):\n",
    "            offset_x = int(depth_x * math.sin(freq_x * 3.14 * i / 180))\n",
    "            offset_y = int(depth_y * math.cos(freq_y * 3.14 * j / 180))\n",
    "            if i + offset_y < rows and j + offset_x < cols:\n",
    "                output[i, j] = input[(i + offset_y) % rows, (j + offset_x) % cols]\n",
    "            else:\n",
    "                output[i, j] = 255\n",
    "    return output\n",
    "\n",
    "symbols = string.ascii_lowercase + string.digits\n",
    "captcha_len = 5\n",
    "\n",
    "output, answer = generate_captcha(symbols=symbols, captcha_len=captcha_len)\n",
    "output = warp_image(output)\n",
    "output_img = Image.fromarray(output[0:50, 0:120])\n",
    "output_img"
   ]
  },
  {
   "cell_type": "code",
   "execution_count": 5,
   "metadata": {},
   "outputs": [
    {
     "data": {
      "text/plain": [
       "16"
      ]
     },
     "execution_count": 5,
     "metadata": {},
     "output_type": "execute_result"
    }
   ],
   "source": [
    "from joblib import Parallel, delayed\n",
    "import multiprocessing\n",
    "\n",
    "num_cores=multiprocessing.cpu_count()\n",
    "num_cores"
   ]
  },
  {
   "cell_type": "code",
   "execution_count": 8,
   "metadata": {},
   "outputs": [
    {
     "name": "stdout",
     "output_type": "stream",
     "text": [
      "0\n"
     ]
    },
    {
     "name": "stderr",
     "output_type": "stream",
     "text": [
      "0it [00:00, ?it/s]\n"
     ]
    },
    {
     "data": {
      "text/plain": [
       "[]"
      ]
     },
     "execution_count": 8,
     "metadata": {},
     "output_type": "execute_result"
    }
   ],
   "source": [
    "from tqdm import tqdm\n",
    "import os\n",
    "\n",
    "n_sample = 500000\n",
    "path = './data/img/'\n",
    "if not os.path.exists(path):\n",
    "    os.mkdir(path)\n",
    "\n",
    "itr = n_sample - len([name for name in os.listdir(path) if os.path.isfile(os.path.join(path, name))])\n",
    "print(itr)\n",
    "\n",
    "def gen_images():\n",
    "    output, answer = generate_captcha(symbols=symbols, captcha_len=captcha_len)\n",
    "    output = warp_image(output)\n",
    "    output_img = Image.fromarray(output[0:50, 0:120])\n",
    "    output_img.save(path + answer + '.jpg')\n",
    "     \n",
    "Parallel(n_jobs=num_cores)(delayed(gen_images)() for i in tqdm(range(itr)))"
   ]
  }
 ],
 "metadata": {
  "kernelspec": {
   "display_name": "Python 3.8.10 64-bit",
   "language": "python",
   "name": "python3"
  },
  "language_info": {
   "codemirror_mode": {
    "name": "ipython",
    "version": 3
   },
   "file_extension": ".py",
   "mimetype": "text/x-python",
   "name": "python",
   "nbconvert_exporter": "python",
   "pygments_lexer": "ipython3",
   "version": "3.8.10"
  },
  "orig_nbformat": 4,
  "vscode": {
   "interpreter": {
    "hash": "916dbcbb3f70747c44a77c7bcd40155683ae19c65e1c03b4aa3499c5328201f1"
   }
  }
 },
 "nbformat": 4,
 "nbformat_minor": 2
}
